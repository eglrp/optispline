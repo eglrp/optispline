{
 "cells": [
  {
   "cell_type": "markdown",
   "metadata": {},
   "source": [
    "We want to make some estamestions given some points in $2$D "
   ]
  },
  {
   "cell_type": "markdown",
   "metadata": {},
   "source": [
    "Start by loading in al the libarys."
   ]
  },
  {
   "cell_type": "code",
   "execution_count": 2,
   "metadata": {
    "collapsed": false
   },
   "outputs": [],
   "source": [
    "%matplotlib inline \n",
    "\n",
    "\n",
    "from Basis import *\n",
    "\n",
    "from casadi import *\n",
    "from casadi.tools import *\n",
    "\n",
    "import numpy as np\n",
    "\n",
    "import matplotlib\n",
    "matplotlib.use('TKAgg')\n",
    "import matplotlib.pyplot as plt\n",
    "\n",
    "import random"
   ]
  },
  {
   "cell_type": "markdown",
   "metadata": {},
   "source": [
    "Generating the points\n",
    "\n",
    " "
   ]
  },
  {
   "cell_type": "code",
   "execution_count": 3,
   "metadata": {
    "collapsed": false
   },
   "outputs": [
    {
     "data": {
      "text/plain": [
       "[<matplotlib.lines.Line2D at 0x7f3c66567090>]"
      ]
     },
     "execution_count": 3,
     "metadata": {},
     "output_type": "execute_result"
    },
    {
     "data": {
      "image/png": "[encoded data removed]",
      "text/plain": [
       "<matplotlib.figure.Figure at 0x7f3c685c18d0>"
      ]
     },
     "metadata": {},
     "output_type": "display_data"
    }
   ],
   "source": [
    "n = 10\n",
    "\n",
    "x = [1.0*i/(n-1) for i in range(n) ]\n",
    "random.seed(4)\n",
    "y = [random.random() for _ in range(n)]\n",
    "\n",
    "plt.figure()\n",
    "plt.plot(x,y,'o')"
   ]
  },
  {
   "cell_type": "markdown",
   "metadata": {},
   "source": [
    "Construct the casadi problem"
   ]
  },
  {
   "cell_type": "code",
   "execution_count": 4,
   "metadata": {
    "collapsed": false
   },
   "outputs": [
    {
     "name": "stdout",
     "output_type": "stream",
     "text": [
      "[SX((est-bound)), SX((est+bound)), SX((est-bound)), SX((est+bound)), SX((est-bound)), SX((est+bound)), SX((est-bound)), SX((est+bound)), SX((est-bound)), SX((est+bound)), SX((est-bound)), SX((est+bound)), SX((est-bound)), SX((est+bound)), SX((est-bound)), SX((est+bound)), SX((est-bound)), SX((est+bound)), SX((est-bound)), SX((est+bound))]\n"
     ]
    }
   ],
   "source": [
    "est   = SX.sym('est',1)\n",
    "bound   = SX.sym('bound',1)\n",
    "\n",
    "obj = bound\n",
    "\n",
    "con = []\n",
    "con_lower = []\n",
    "con_upper = []\n",
    "\n",
    "for x_,y_ in zip(x,y):\n",
    "     con.append(est - bound)\n",
    "     con_lower.append(-inf)\n",
    "     con_upper.append(y)\n",
    "    \n",
    "     con.append(est + bound)\n",
    "     con_lower.append(y)\n",
    "     con_upper.append(inf)\n",
    "\n",
    "print con\n",
    "\n"
   ]
  },
  {
   "cell_type": "code",
   "execution_count": 6,
   "metadata": {
    "collapsed": false
   },
   "outputs": [
    {
     "ename": "NotImplementedError",
     "evalue": "Wrong number or type of arguments for overloaded function 'nlpsol'.\n  Possible Python usages are:\n    nlpsol(str,str,str:SX,Dict)\n    nlpsol(str,str,str:MX,Dict)\n    nlpsol(str,str,Function,Dict)\n    nlpsol(str,str,str,Dict)\n    nlpsol(str,str,Compiler,Dict)\nYou have: nlpsol(str, str, str:[SX]|SX)\n",
     "output_type": "error",
     "traceback": [
      "\u001b[1;31m---------------------------------------------------------------------------\u001b[0m",
      "\u001b[1;31mNotImplementedError\u001b[0m                       Traceback (most recent call last)",
      "\u001b[1;32m<ipython-input-6-6b6688171721>\u001b[0m in \u001b[0;36m<module>\u001b[1;34m()\u001b[0m\n\u001b[0;32m      1\u001b[0m \u001b[0mnlp\u001b[0m \u001b[1;33m=\u001b[0m \u001b[1;33m{\u001b[0m \u001b[1;34m'x'\u001b[0m\u001b[1;33m:\u001b[0m\u001b[0mvertcat\u001b[0m\u001b[1;33m(\u001b[0m\u001b[0mest\u001b[0m\u001b[1;33m,\u001b[0m \u001b[0mbound\u001b[0m \u001b[1;33m)\u001b[0m\u001b[1;33m,\u001b[0m\u001b[1;34m'f'\u001b[0m\u001b[1;33m:\u001b[0m\u001b[0mobj\u001b[0m\u001b[1;33m,\u001b[0m\u001b[1;34m'g'\u001b[0m\u001b[1;33m:\u001b[0m\u001b[0mcon\u001b[0m \u001b[1;33m}\u001b[0m\u001b[1;33m\u001b[0m\u001b[0m\n\u001b[1;32m----> 2\u001b[1;33m \u001b[0msolver\u001b[0m \u001b[1;33m=\u001b[0m \u001b[0mnlpsol\u001b[0m\u001b[1;33m(\u001b[0m\u001b[1;34m\"solver\"\u001b[0m\u001b[1;33m,\u001b[0m\u001b[1;34m\"ipopt\"\u001b[0m\u001b[1;33m,\u001b[0m \u001b[0mnlp\u001b[0m\u001b[1;33m)\u001b[0m\u001b[1;33m\u001b[0m\u001b[0m\n\u001b[0m",
      "\u001b[1;32m/home/erik/Documents/casadi3.0/casadi/casadi.pyc\u001b[0m in \u001b[0;36mnlpsol\u001b[1;34m(*args)\u001b[0m\n\u001b[0;32m  12520\u001b[0m \u001b[1;33m\u001b[0m\u001b[0m\n\u001b[0;32m  12521\u001b[0m     \"\"\"\n\u001b[1;32m> 12522\u001b[1;33m   \u001b[1;32mreturn\u001b[0m \u001b[0m_casadi\u001b[0m\u001b[1;33m.\u001b[0m\u001b[0mnlpsol\u001b[0m\u001b[1;33m(\u001b[0m\u001b[1;33m*\u001b[0m\u001b[0margs\u001b[0m\u001b[1;33m)\u001b[0m\u001b[1;33m\u001b[0m\u001b[0m\n\u001b[0m\u001b[0;32m  12523\u001b[0m \u001b[1;33m\u001b[0m\u001b[0m\n\u001b[0;32m  12524\u001b[0m \u001b[1;32mdef\u001b[0m \u001b[0mnlpsol_in\u001b[0m\u001b[1;33m(\u001b[0m\u001b[1;33m*\u001b[0m\u001b[0margs\u001b[0m\u001b[1;33m)\u001b[0m\u001b[1;33m:\u001b[0m\u001b[1;33m\u001b[0m\u001b[0m\n",
      "\u001b[1;31mNotImplementedError\u001b[0m: Wrong number or type of arguments for overloaded function 'nlpsol'.\n  Possible Python usages are:\n    nlpsol(str,str,str:SX,Dict)\n    nlpsol(str,str,str:MX,Dict)\n    nlpsol(str,str,Function,Dict)\n    nlpsol(str,str,str,Dict)\n    nlpsol(str,str,Compiler,Dict)\nYou have: nlpsol(str, str, str:[SX]|SX)\n"
     ]
    }
   ],
   "source": [
    "nlp = { 'x':vertcat(est, bound ),'f':obj,'g':vertcat(*con) }\n",
    "solver = nlpsol(\"solver\",\"ipopt\", nlp)"
   ]
  },
  {
   "cell_type": "code",
   "execution_count": 5,
   "metadata": {
    "collapsed": false
   },
   "outputs": [
    {
     "ename": "NotImplementedError",
     "evalue": "Wrong number or type of arguments for overloaded function 'nlpsol'.\n  Possible Python usages are:\n    nlpsol(str,str,str:SX,Dict)\n    nlpsol(str,str,str:MX,Dict)\n    nlpsol(str,str,Function,Dict)\n    nlpsol(str,str,str,Dict)\n    nlpsol(str,str,Compiler,Dict)\nYou have: nlpsol(str, str, str:[SX]|SX)\n",
     "output_type": "error",
     "traceback": [
      "\u001b[1;31m---------------------------------------------------------------------------\u001b[0m",
      "\u001b[1;31mNotImplementedError\u001b[0m                       Traceback (most recent call last)",
      "\u001b[1;32m<ipython-input-5-f752260ecc64>\u001b[0m in \u001b[0;36m<module>\u001b[1;34m()\u001b[0m\n\u001b[0;32m      1\u001b[0m \u001b[0mnlp\u001b[0m \u001b[1;33m=\u001b[0m \u001b[1;33m{\u001b[0m \u001b[1;34m'x'\u001b[0m\u001b[1;33m:\u001b[0m\u001b[0mvertcat\u001b[0m\u001b[1;33m(\u001b[0m\u001b[0mest\u001b[0m\u001b[1;33m,\u001b[0m \u001b[0mbound\u001b[0m \u001b[1;33m)\u001b[0m\u001b[1;33m,\u001b[0m\u001b[1;34m'f'\u001b[0m\u001b[1;33m:\u001b[0m\u001b[0mobj\u001b[0m\u001b[1;33m,\u001b[0m\u001b[1;34m'g'\u001b[0m\u001b[1;33m:\u001b[0m\u001b[0mcon\u001b[0m \u001b[1;33m}\u001b[0m\u001b[1;33m\u001b[0m\u001b[0m\n\u001b[1;32m----> 2\u001b[1;33m \u001b[0msolver\u001b[0m \u001b[1;33m=\u001b[0m \u001b[0mnlpsol\u001b[0m\u001b[1;33m(\u001b[0m\u001b[1;34m\"solver\"\u001b[0m\u001b[1;33m,\u001b[0m\u001b[1;34m\"ipopt\"\u001b[0m\u001b[1;33m,\u001b[0m \u001b[0mnlp\u001b[0m\u001b[1;33m)\u001b[0m\u001b[1;33m\u001b[0m\u001b[0m\n\u001b[0m\u001b[0;32m      3\u001b[0m \u001b[1;33m\u001b[0m\u001b[0m\n\u001b[0;32m      4\u001b[0m \u001b[0mr\u001b[0m \u001b[1;33m=\u001b[0m \u001b[0msolver\u001b[0m\u001b[1;33m(\u001b[0m\u001b[0mlbg\u001b[0m \u001b[1;33m=\u001b[0m \u001b[0mcon_lower\u001b[0m\u001b[1;33m,\u001b[0m \u001b[0mubg\u001b[0m \u001b[1;33m=\u001b[0m \u001b[0mcon_upper\u001b[0m\u001b[1;33m)\u001b[0m\u001b[1;33m\u001b[0m\u001b[0m\n",
      "\u001b[1;32m/home/erik/Documents/casadi3.0/casadi/casadi.pyc\u001b[0m in \u001b[0;36mnlpsol\u001b[1;34m(*args)\u001b[0m\n\u001b[0;32m  12520\u001b[0m \u001b[1;33m\u001b[0m\u001b[0m\n\u001b[0;32m  12521\u001b[0m     \"\"\"\n\u001b[1;32m> 12522\u001b[1;33m   \u001b[1;32mreturn\u001b[0m \u001b[0m_casadi\u001b[0m\u001b[1;33m.\u001b[0m\u001b[0mnlpsol\u001b[0m\u001b[1;33m(\u001b[0m\u001b[1;33m*\u001b[0m\u001b[0margs\u001b[0m\u001b[1;33m)\u001b[0m\u001b[1;33m\u001b[0m\u001b[0m\n\u001b[0m\u001b[0;32m  12523\u001b[0m \u001b[1;33m\u001b[0m\u001b[0m\n\u001b[0;32m  12524\u001b[0m \u001b[1;32mdef\u001b[0m \u001b[0mnlpsol_in\u001b[0m\u001b[1;33m(\u001b[0m\u001b[1;33m*\u001b[0m\u001b[0margs\u001b[0m\u001b[1;33m)\u001b[0m\u001b[1;33m:\u001b[0m\u001b[1;33m\u001b[0m\u001b[0m\n",
      "\u001b[1;31mNotImplementedError\u001b[0m: Wrong number or type of arguments for overloaded function 'nlpsol'.\n  Possible Python usages are:\n    nlpsol(str,str,str:SX,Dict)\n    nlpsol(str,str,str:MX,Dict)\n    nlpsol(str,str,Function,Dict)\n    nlpsol(str,str,str,Dict)\n    nlpsol(str,str,Compiler,Dict)\nYou have: nlpsol(str, str, str:[SX]|SX)\n"
     ]
    }
   ],
   "source": [
    "r = solver(lbg = con_lower, ubg = con_upper)"
   ]
  },
  {
   "cell_type": "code",
   "execution_count": null,
   "metadata": {
    "collapsed": true
   },
   "outputs": [],
   "source": [
    "  =  S ( x0 = [ 2 . 5 , 3 . 0 , 0 . 7 5 ] ,\n",
    "n\n",
    "l b g =0 ,   ubg=0)"
   ]
  }
 ],
 "metadata": {
  "kernelspec": {
   "display_name": "Python 2",
   "language": "python",
   "name": "python2"
  },
  "language_info": {
   "codemirror_mode": {
    "name": "ipython",
    "version": 2
   },
   "file_extension": ".py",
   "mimetype": "text/x-python",
   "name": "python",
   "nbconvert_exporter": "python",
   "pygments_lexer": "ipython2",
   "version": "2.7.12"
  }
 },
 "nbformat": 4,
 "nbformat_minor": 0
}

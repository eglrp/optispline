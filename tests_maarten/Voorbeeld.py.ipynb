{
 "cells": [
  {
   "cell_type": "markdown",
   "metadata": {},
   "source": [
    "We want to make some estamestions given some points in $2$D "
   ]
  },
  {
   "cell_type": "markdown",
   "metadata": {},
   "source": [
    "Start by loading in al the libarys."
   ]
  },
  {
   "cell_type": "code",
   "execution_count": 2,
   "metadata": {
    "collapsed": false
   },
   "outputs": [],
   "source": [
    "%matplotlib inline \n",
    "\n",
    "from Basis import *\n",
    "\n",
    "import casadi as ca\n",
    "\n",
    "import numpy as np\n",
    "\n",
    "import matplotlib\n",
    "matplotlib.use('TKAgg')\n",
    "import matplotlib.pyplot as plt\n",
    "\n",
    "import random"
   ]
  },
  {
   "cell_type": "markdown",
   "metadata": {},
   "source": [
    "Generating the points\n",
    "\n",
    " "
   ]
  },
  {
   "cell_type": "code",
   "execution_count": 3,
   "metadata": {
    "collapsed": false
   },
   "outputs": [
    {
     "data": {
      "text/plain": [
       "[<matplotlib.lines.Line2D at 0x7faa8229b0d0>]"
      ]
     },
     "execution_count": 3,
     "metadata": {},
     "output_type": "execute_result"
    },
    {
     "data": {
      "image/png": "[encoded data removed]",
      "text/plain": [
       "<matplotlib.figure.Figure at 0x7faa84375910>"
      ]
     },
     "metadata": {},
     "output_type": "display_data"
    }
   ],
   "source": [
    "n = 10\n",
    "\n",
    "x = [1.0*i/(n-1) for i in range(n) ]\n",
    "random.seed(4)\n",
    "y = [random.random() for _ in range(n)]\n",
    "\n",
    "plt.figure()\n",
    "plt.plot(x,y,'ko')"
   ]
  },
  {
   "cell_type": "markdown",
   "metadata": {},
   "source": [
    "Construct the casadi problem"
   ]
  },
  {
   "cell_type": "code",
   "execution_count": 4,
   "metadata": {
    "collapsed": false
   },
   "outputs": [],
   "source": [
    "est   = ca.SX.sym('est',1)\n",
    "bound   = ca.SX.sym('bound',1)\n",
    "\n",
    "obj = bound\n",
    "\n",
    "con = []\n",
    "con_lower = []\n",
    "con_upper = []\n",
    "\n",
    "for x_,y_ in zip(x,y):\n",
    "     con.append(est - bound)\n",
    "     con_lower.append(-ca.inf)\n",
    "     con_upper.append(y_)\n",
    "    \n",
    "     con.append(est + bound)\n",
    "     con_lower.append(y_)\n",
    "     con_upper.append(ca.inf)\n"
   ]
  },
  {
   "cell_type": "code",
   "execution_count": 5,
   "metadata": {
    "collapsed": false
   },
   "outputs": [
    {
     "name": "stdout",
     "output_type": "stream",
     "text": [
      "\n",
      "******************************************************************************\n",
      "This program contains Ipopt, a library for large-scale nonlinear optimization.\n",
      " Ipopt is released as open source code under the Eclipse Public License (EPL).\n",
      "         For more information visit http://projects.coin-or.org/Ipopt\n",
      "******************************************************************************\n",
      "\n",
      "This is Ipopt version 3.12.3, running with linear solver mumps.\n",
      "NOTE: Other linear solvers might be more efficient (see Ipopt documentation).\n",
      "\n",
      "Number of nonzeros in equality constraint Jacobian...:        0\n",
      "Number of nonzeros in inequality constraint Jacobian.:       40\n",
      "Number of nonzeros in Lagrangian Hessian.............:        0\n",
      "\n",
      "Total number of variables............................:        2\n",
      "                     variables with only lower bounds:        0\n",
      "                variables with lower and upper bounds:        0\n",
      "                     variables with only upper bounds:        0\n",
      "Total number of equality constraints.................:        0\n",
      "Total number of inequality constraints...............:       20\n",
      "        inequality constraints with only lower bounds:       10\n",
      "   inequality constraints with lower and upper bounds:        0\n",
      "        inequality constraints with only upper bounds:       10\n",
      "\n",
      "iter    objective    inf_pr   inf_du lg(mu)  ||d||  lg(rg) alpha_du alpha_pr  ls\n",
      "   0  0.0000000e+00 9.18e-01 9.05e-01  -1.0 0.00e+00    -  0.00e+00 0.00e+00   0\n",
      "   1  4.4824629e-03 9.09e-01 1.30e+00  -1.7 4.92e-01    -  2.83e-02 2.01e-02h  1\n",
      "   2  1.4027771e-02 8.90e-01 1.36e+00  -1.7 8.30e-01    -  2.12e-02 2.09e-02h  1\n",
      "   3  4.6534866e-01 0.00e+00 7.83e+00  -1.7 8.19e-01    -  1.34e-01 1.00e+00f  1\n",
      "   4  4.7187635e-01 0.00e+00 8.01e-02  -1.7 1.05e-02    -  9.90e-01 1.00e+00f  1\n",
      "   5  4.3187415e-01 0.00e+00 7.10e-02  -2.5 1.04e-01    -  1.00e+00 8.43e-01f  1\n",
      "   6  4.3573275e-01 0.00e+00 2.83e-08  -2.5 1.30e-02    -  1.00e+00 1.00e+00f  1\n",
      "   7  4.2603223e-01 0.00e+00 1.53e-02  -3.8 1.59e-02    -  1.00e+00 8.30e-01f  1\n",
      "   8  4.2602973e-01 0.00e+00 1.50e-09  -3.8 3.21e-04    -  1.00e+00 1.00e+00f  1\n",
      "   9  4.2572160e-01 0.00e+00 5.45e-05  -5.7 3.20e-04    -  1.00e+00 9.94e-01f  1\n",
      "iter    objective    inf_pr   inf_du lg(mu)  ||d||  lg(rg) alpha_du alpha_pr  ls\n",
      "  10  4.2572365e-01 0.00e+00 1.84e-11  -5.7 3.69e-06    -  1.00e+00 1.00e+00f  1\n",
      "  11  4.2571997e-01 0.00e+00 2.51e-14  -8.6 3.69e-06    -  1.00e+00 1.00e+00f  1\n",
      "\n",
      "Number of Iterations....: 11\n",
      "\n",
      "                                   (scaled)                 (unscaled)\n",
      "Objective...............:   4.2571996812889762e-01    4.2571996812889762e-01\n",
      "Dual infeasibility......:   2.5091040356528538e-14    2.5091040356528538e-14\n",
      "Constraint violation....:   0.0000000000000000e+00    0.0000000000000000e+00\n",
      "Complementarity.........:   2.6911858085374965e-09    2.6911858085374965e-09\n",
      "Overall NLP error.......:   2.6911858085374965e-09    2.6911858085374965e-09\n",
      "\n",
      "\n",
      "Number of objective function evaluations             = 12\n",
      "Number of objective gradient evaluations             = 12\n",
      "Number of equality constraint evaluations            = 0\n",
      "Number of inequality constraint evaluations          = 12\n",
      "Number of equality constraint Jacobian evaluations   = 0\n",
      "Number of inequality constraint Jacobian evaluations = 12\n",
      "Number of Lagrangian Hessian evaluations             = 11\n",
      "Total CPU secs in IPOPT (w/o function evaluations)   =      0.004\n",
      "Total CPU secs in NLP function evaluations           =      0.000\n",
      "\n",
      "EXIT: Optimal Solution Found.\n",
      "                   proc           wall      num           mean             mean\n",
      "                   time           time     evals       proc time        wall time\n",
      "        nlp_f     0.000 [s]      0.000 [s]    12       0.00 [ms]        0.00 [ms]\n",
      "        nlp_g     0.000 [s]      0.000 [s]    12       0.00 [ms]        0.00 [ms]\n",
      "   nlp_grad_f     0.000 [s]      0.000 [s]    13       0.00 [ms]        0.00 [ms]\n",
      "    nlp_jac_g     0.000 [s]      0.000 [s]    13       0.00 [ms]        0.00 [ms]\n",
      "   nlp_hess_l     0.000 [s]      0.000 [s]    11       0.00 [ms]        0.00 [ms]\n",
      " all previous     0.000 [s]      0.000 [s]\n",
      "callback_prep     0.000 [s]      0.000 [s]    12       0.00 [ms]        0.00 [ms]\n",
      "       solver     0.009 [s]      0.017 [s]\n",
      "     mainloop     0.009 [s]      0.017 [s]\n"
     ]
    }
   ],
   "source": [
    "nlp = { 'x':ca.vertcat(est, bound ),'f':obj,'g':ca.vertcat(*con) }\n",
    "solver = ca.nlpsol(\"solver\",\"ipopt\", nlp)\n",
    "r = solver(lbg = con_lower, ubg = con_upper)"
   ]
  },
  {
   "cell_type": "code",
   "execution_count": 6,
   "metadata": {
    "collapsed": false
   },
   "outputs": [
    {
     "name": "stdout",
     "output_type": "stream",
     "text": [
      "center value is  0.492235069624\n",
      "distance to the bound is  0.425719968129\n"
     ]
    }
   ],
   "source": [
    "est_,bound_ = r['x'].full()\n",
    "est_ = est_[0]\n",
    "bound_ = bound_[0]\n",
    "print \"center value is \", str(est_)\n",
    "print \"distance to the bound is \", str(bound_)"
   ]
  },
  {
   "cell_type": "markdown",
   "metadata": {},
   "source": [
    "Plotting the result"
   ]
  },
  {
   "cell_type": "code",
   "execution_count": 7,
   "metadata": {
    "collapsed": false
   },
   "outputs": [
    {
     "data": {
      "text/plain": [
       "[<matplotlib.lines.Line2D at 0x7faa81b44f10>]"
      ]
     },
     "execution_count": 7,
     "metadata": {},
     "output_type": "execute_result"
    },
    {
     "data": {
      "image/png": "[encoded data removed]",
      "text/plain": [
       "<matplotlib.figure.Figure at 0x7faa8223a950>"
      ]
     },
     "metadata": {},
     "output_type": "display_data"
    }
   ],
   "source": [
    "upper_bound = 2 * [est_ + bound_]\n",
    "lower_bound = 2 * [est_ - bound_]\n",
    "middel = 2 * [est_]\n",
    "interval = [0, 1]\n",
    "\n",
    "plt.figure()\n",
    "plt.plot(x,y,'ko')\n",
    "plt.plot(interval,upper_bound,'b')\n",
    "plt.plot(interval,lower_bound,'b')\n",
    "plt.plot(interval,middel,'r')"
   ]
  },
  {
   "cell_type": "markdown",
   "metadata": {},
   "source": [
    "Now we will try something simular but our estimation will be linear depending on $x$. To do this we will construct a Monomial and optimise over its coefficients."
   ]
  },
  {
   "cell_type": "code",
   "execution_count": 8,
   "metadata": {
    "collapsed": false
   },
   "outputs": [],
   "source": [
    "degree = 1\n",
    "m = SubMonomialBasis(degree)\n"
   ]
  },
  {
   "cell_type": "code",
   "execution_count": 9,
   "metadata": {
    "collapsed": false
   },
   "outputs": [
    {
     "data": {
      "text/plain": [
       "MX(vertcat(1, x))"
      ]
     },
     "execution_count": 9,
     "metadata": {},
     "output_type": "execute_result"
    }
   ],
   "source": [
    "m([ca.MX.sym('x',1,1)]).data()"
   ]
  },
  {
   "cell_type": "code",
   "execution_count": 10,
   "metadata": {
    "collapsed": false
   },
   "outputs": [],
   "source": [
    "b = Basis([m])\n",
    "b = MonomialBasis(degree)"
   ]
  },
  {
   "cell_type": "code",
   "execution_count": 11,
   "metadata": {
    "collapsed": false
   },
   "outputs": [
    {
     "name": "stdout",
     "output_type": "stream",
     "text": [
      "[1, 0.1]\n",
      "@1=zeros(2x1, dense)[0] = 1), @1[1] = (@1[1]+x))\n"
     ]
    }
   ],
   "source": [
    "print b([0.1]).data()\n",
    "print b([ca.MX.sym('x',1,1)]).data()"
   ]
  },
  {
   "cell_type": "code",
   "execution_count": 14,
   "metadata": {
    "collapsed": false
   },
   "outputs": [],
   "source": [
    "a_ = ca.SX.sym('a',degree + 1,1)\n",
    "a = STensor(a_, [degree + 1,1,1])\n",
    "#a = STensor('a',[degree + 1,1,1])\n",
    "a = Coefficient(a)\n",
    "#a"
   ]
  },
  {
   "cell_type": "code",
   "execution_count": 16,
   "metadata": {
    "collapsed": false
   },
   "outputs": [],
   "source": [
    "est_function = Function(b,a)\n",
    "\n",
    "\n",
    "#Function( Basis& basis, const Coefficient& coef) : basis(basis), coef(coef) {} \n",
    "\n",
    "#    \n",
    "#Basis b;\n",
    "#ST s;#\n",
    "\n",
    "##explicit Coefficient(const ST& a);\n",
    "\n",
    "#\n",
    "#Function(b, s);\n",
    "#c = b.ST(1,1)\n",
    "#Function(b, c)\n",
    "#Function(b, Coefficient(b.ST(1,1)))\n",
    "\n",
    "\n",
    "\n",
    "    "
   ]
  },
  {
   "cell_type": "code",
   "execution_count": 17,
   "metadata": {
    "collapsed": false
   },
   "outputs": [
    {
     "data": {
      "text/plain": [
       "SX((a_0+(0.1*a_1)))"
      ]
     },
     "execution_count": 17,
     "metadata": {},
     "output_type": "execute_result"
    }
   ],
   "source": [
    "est_function([0.1]).data()"
   ]
  },
  {
   "cell_type": "code",
   "execution_count": 18,
   "metadata": {
    "collapsed": false
   },
   "outputs": [],
   "source": [
    "con = []\n",
    "con_lower = []\n",
    "con_upper = []\n",
    "\n",
    "for x_,y_ in zip(x,y):\n",
    "     con.append(est_function([x_]).data() - bound)\n",
    "     con_lower.append(-ca.inf)\n",
    "     con_upper.append(y_)\n",
    "    \n",
    "     con.append(est_function([x_]).data() + bound)\n",
    "     con_lower.append(y_)\n",
    "     con_upper.append(ca.inf)"
   ]
  },
  {
   "cell_type": "code",
   "execution_count": 26,
   "metadata": {
    "collapsed": false
   },
   "outputs": [
    {
     "name": "stdout",
     "output_type": "stream",
     "text": [
      "This is Ipopt version 3.12.3, running with linear solver mumps.\n",
      "NOTE: Other linear solvers might be more efficient (see Ipopt documentation).\n",
      "\n",
      "Number of nonzeros in equality constraint Jacobian...:        0\n",
      "Number of nonzeros in inequality constraint Jacobian.:       58\n",
      "Number of nonzeros in Lagrangian Hessian.............:        0\n",
      "\n",
      "Total number of variables............................:        3\n",
      "                     variables with only lower bounds:        0\n",
      "                variables with lower and upper bounds:        0\n",
      "                     variables with only upper bounds:        0\n",
      "Total number of equality constraints.................:        0\n",
      "Total number of inequality constraints...............:       20\n",
      "        inequality constraints with only lower bounds:       10\n",
      "   inequality constraints with lower and upper bounds:        0\n",
      "        inequality constraints with only upper bounds:       10\n",
      "\n",
      "iter    objective    inf_pr   inf_du lg(mu)  ||d||  lg(rg) alpha_du alpha_pr  ls\n",
      "   0  0.0000000e+00 9.18e-01 9.05e-01  -1.0 0.00e+00    -  0.00e+00 0.00e+00   0\n",
      "   1  4.7517396e-03 9.06e-01 9.38e-01  -1.7 4.81e-01    -  2.28e-02 2.40e-02h  1\n",
      "   2  2.3183554e-02 8.56e-01 7.71e+00  -1.7 9.83e-01    -  1.83e-02 5.47e-02h  1\n",
      "   3  1.3683879e-01 5.55e-01 6.48e+00  -1.7 9.60e-01    -  9.44e-02 3.50e-01f  1\n",
      "   4  4.9423488e-01 0.00e+00 6.98e+00  -1.7 5.72e-01    -  1.31e-01 1.00e+00h  1\n",
      "   5  4.8824139e-01 0.00e+00 1.38e-01  -1.7 7.28e-02    -  9.80e-01 1.00e+00f  1\n",
      "   6  4.8267655e-01 0.00e+00 4.04e-01  -2.5 1.84e-01    -  7.52e-01 9.93e-02f  2\n",
      "   7  4.0040287e-01 0.00e+00 3.33e-02  -2.5 5.61e-01    -  7.59e-01 9.05e-01f  1\n",
      "   8  4.1072132e-01 0.00e+00 2.83e-08  -2.5 5.65e-02    -  1.00e+00 1.00e+00f  1\n",
      "   9  3.9497708e-01 0.00e+00 4.45e-03  -3.8 5.26e-02    -  1.00e+00 9.24e-01f  1\n",
      "iter    objective    inf_pr   inf_du lg(mu)  ||d||  lg(rg) alpha_du alpha_pr  ls\n",
      "  10  3.9509291e-01 0.00e+00 1.50e-09  -3.8 4.16e-04    -  1.00e+00 1.00e+00f  1\n",
      "  11  3.9464149e-01 0.00e+00 1.95e-05  -5.7 7.43e-04    -  1.00e+00 9.96e-01f  1\n",
      "  12  3.9464288e-01 0.00e+00 1.84e-11  -5.7 1.91e-05    -  1.00e+00 1.00e+00f  1\n",
      "  13  3.9463735e-01 0.00e+00 2.51e-14  -8.6 9.21e-06    -  1.00e+00 1.00e+00f  1\n",
      "\n",
      "Number of Iterations....: 13\n",
      "\n",
      "                                   (scaled)                 (unscaled)\n",
      "Objective...............:   3.9463735473723288e-01    3.9463735473723288e-01\n",
      "Dual infeasibility......:   2.5091040356528538e-14    2.5091040356528538e-14\n",
      "Constraint violation....:   0.0000000000000000e+00    0.0000000000000000e+00\n",
      "Complementarity.........:   2.5911340557598683e-09    2.5911340557598683e-09\n",
      "Overall NLP error.......:   2.5911340557598683e-09    2.5911340557598683e-09\n",
      "\n",
      "\n",
      "Number of objective function evaluations             = 17\n",
      "Number of objective gradient evaluations             = 14\n",
      "Number of equality constraint evaluations            = 0\n",
      "Number of inequality constraint evaluations          = 17\n",
      "Number of equality constraint Jacobian evaluations   = 0\n",
      "Number of inequality constraint Jacobian evaluations = 14\n",
      "Number of Lagrangian Hessian evaluations             = 13\n",
      "Total CPU secs in IPOPT (w/o function evaluations)   =      0.008\n",
      "Total CPU secs in NLP function evaluations           =      0.000\n",
      "\n",
      "EXIT: Optimal Solution Found.\n",
      "                   proc           wall      num           mean             mean\n",
      "                   time           time     evals       proc time        wall time\n",
      "        nlp_f     0.000 [s]      0.000 [s]    17       0.00 [ms]        0.00 [ms]\n",
      "        nlp_g     0.000 [s]      0.000 [s]    17       0.00 [ms]        0.00 [ms]\n",
      "   nlp_grad_f     0.000 [s]      0.000 [s]    15       0.00 [ms]        0.00 [ms]\n",
      "    nlp_jac_g     0.000 [s]      0.000 [s]    15       0.00 [ms]        0.00 [ms]\n",
      "   nlp_hess_l     0.000 [s]      0.000 [s]    13       0.00 [ms]        0.00 [ms]\n",
      " all previous     0.000 [s]      0.000 [s]\n",
      "callback_prep     0.000 [s]      0.000 [s]    14       0.00 [ms]        0.00 [ms]\n",
      "       solver     0.009 [s]      0.009 [s]\n",
      "     mainloop     0.009 [s]      0.009 [s]\n"
     ]
    }
   ],
   "source": [
    "nlp = { 'x':ca.vertcat(a_, bound ),'f':obj,'g':ca.vertcat(*con) }\n",
    "solver = ca.nlpsol(\"solver\",\"ipopt\", nlp)\n",
    "r = solver(lbg = con_lower, ubg = con_upper)"
   ]
  },
  {
   "cell_type": "code",
   "execution_count": 27,
   "metadata": {
    "collapsed": false
   },
   "outputs": [
    {
     "name": "stdout",
     "output_type": "stream",
     "text": [
      "[[ 0.33682199]\n",
      " [ 0.27974353]]\n"
     ]
    }
   ],
   "source": [
    "print r['x'].full()[0:degree+1]"
   ]
  },
  {
   "cell_type": "code",
   "execution_count": 28,
   "metadata": {
    "collapsed": false
   },
   "outputs": [
    {
     "name": "stdout",
     "output_type": "stream",
     "text": [
      "center value is  [[ 0.33682199]\n",
      " [ 0.27974353]]\n",
      "distance to the bound is  0.394637354737\n"
     ]
    }
   ],
   "source": [
    "est_ = r['x'].full()[0:degree+1]\n",
    "bound_ = r['x'].full()[degree+1]\n",
    "bound_ = bound_[0]\n",
    "print \"center value is \", str(est_)\n",
    "print \"distance to the bound is \", str(bound_)"
   ]
  },
  {
   "cell_type": "code",
   "execution_count": 29,
   "metadata": {
    "collapsed": true
   },
   "outputs": [],
   "source": [
    "a = est_\n",
    "a = DTensor(a, [degree + 1,1,1])\n",
    "a = Coefficient(a)"
   ]
  },
  {
   "cell_type": "code",
   "execution_count": 30,
   "metadata": {
    "collapsed": true
   },
   "outputs": [],
   "source": [
    "est_function = Function(b,a)"
   ]
  },
  {
   "cell_type": "code",
   "execution_count": 31,
   "metadata": {
    "collapsed": false
   },
   "outputs": [
    {
     "data": {
      "text/plain": [
       "[<matplotlib.lines.Line2D at 0x7faa81761710>]"
      ]
     },
     "execution_count": 31,
     "metadata": {},
     "output_type": "execute_result"
    },
    {
     "data": {
      "image/png": "[encoded data removed]",
      "text/plain": [
       "<matplotlib.figure.Figure at 0x7faa81b62c50>"
      ]
     },
     "metadata": {},
     "output_type": "display_data"
    }
   ],
   "source": [
    "interval = np.linspace(0.,1.,101)\n",
    "upper_bound = []\n",
    "lower_bound = []\n",
    "middel = []\n",
    "\n",
    "for i in interval:\n",
    "    upper_bound.append(est_function([i]).data() + bound_)\n",
    "    lower_bound.append(est_function([i]).data() - bound_)\n",
    "    middel.append(est_function([i]).data())\n",
    "\n",
    "plt.figure()\n",
    "plt.plot(x,y,'ko')\n",
    "plt.plot(interval,upper_bound,'b')\n",
    "plt.plot(interval,lower_bound,'b')\n",
    "plt.plot(interval,middel,'r')"
   ]
  },
  {
   "cell_type": "code",
   "execution_count": null,
   "metadata": {
    "collapsed": true
   },
   "outputs": [],
   "source": []
  }
 ],
 "metadata": {
  "kernelspec": {
   "display_name": "Python 2",
   "language": "python",
   "name": "python2"
  },
  "language_info": {
   "codemirror_mode": {
    "name": "ipython",
    "version": 2
   },
   "file_extension": ".py",
   "mimetype": "text/x-python",
   "name": "python",
   "nbconvert_exporter": "python",
   "pygments_lexer": "ipython2",
   "version": "2.7.12"
  }
 },
 "nbformat": 4,
 "nbformat_minor": 0
}

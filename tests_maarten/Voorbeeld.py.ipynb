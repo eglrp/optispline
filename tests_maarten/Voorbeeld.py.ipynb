{
 "cells": [
  {
   "cell_type": "markdown",
   "metadata": {},
   "source": [
    "We want to make some estamestions given some points in $2$D "
   ]
  },
  {
   "cell_type": "markdown",
   "metadata": {},
   "source": [
    "Start by loading in al the libarys."
   ]
  },
  {
   "cell_type": "code",
   "execution_count": 141,
   "metadata": {
    "collapsed": false
   },
   "outputs": [],
   "source": [
    "%matplotlib inline \n",
    "\n",
    "from Basis import *\n",
    "\n",
    "import casadi as ca\n",
    "\n",
    "import numpy as np\n",
    "\n",
    "import matplotlib\n",
    "matplotlib.use('TKAgg')\n",
    "import matplotlib.pyplot as plt\n",
    "\n",
    "import random"
   ]
  },
  {
   "cell_type": "markdown",
   "metadata": {},
   "source": [
    "Generating the points\n",
    "\n",
    " "
   ]
  },
  {
   "cell_type": "code",
   "execution_count": 142,
   "metadata": {
    "collapsed": false
   },
   "outputs": [
    {
     "data": {
      "text/plain": [
       "[<matplotlib.lines.Line2D at 0x7f0b3686b1d0>]"
      ]
     },
     "execution_count": 142,
     "metadata": {},
     "output_type": "execute_result"
    },
    {
     "data": {
      "image/png": "[encoded data removed]",
      "text/plain": [
       "<matplotlib.figure.Figure at 0x7f0b3694add0>"
      ]
     },
     "metadata": {},
     "output_type": "display_data"
    }
   ],
   "source": [
    "n = 10\n",
    "\n",
    "x = [1.0*i/(n-1) for i in range(n) ]\n",
    "random.seed(4)\n",
    "y = [random.random() for _ in range(n)]\n",
    "\n",
    "plt.figure()\n",
    "plt.plot(x,y,'ko')"
   ]
  },
  {
   "cell_type": "markdown",
   "metadata": {},
   "source": [
    "Construct the casadi problem"
   ]
  },
  {
   "cell_type": "code",
   "execution_count": 143,
   "metadata": {
    "collapsed": false
   },
   "outputs": [],
   "source": [
    "est   = ca.SX.sym('est',1)\n",
    "bound   = ca.SX.sym('bound',1)\n",
    "\n",
    "obj = bound\n",
    "\n",
    "con = []\n",
    "con_lower = []\n",
    "con_upper = []\n",
    "\n",
    "for x_,y_ in zip(x,y):\n",
    "     con.append(est - bound)\n",
    "     con_lower.append(-ca.inf)\n",
    "     con_upper.append(y_)\n",
    "    \n",
    "     con.append(est + bound)\n",
    "     con_lower.append(y_)\n",
    "     con_upper.append(ca.inf)\n"
   ]
  },
  {
   "cell_type": "code",
   "execution_count": 144,
   "metadata": {
    "collapsed": false
   },
   "outputs": [
    {
     "name": "stdout",
     "output_type": "stream",
     "text": [
      "This is Ipopt version 3.12.3, running with linear solver mumps.\n",
      "NOTE: Other linear solvers might be more efficient (see Ipopt documentation).\n",
      "\n",
      "Number of nonzeros in equality constraint Jacobian...:        0\n",
      "Number of nonzeros in inequality constraint Jacobian.:       40\n",
      "Number of nonzeros in Lagrangian Hessian.............:        0\n",
      "\n",
      "Total number of variables............................:        2\n",
      "                     variables with only lower bounds:        0\n",
      "                variables with lower and upper bounds:        0\n",
      "                     variables with only upper bounds:        0\n",
      "Total number of equality constraints.................:        0\n",
      "Total number of inequality constraints...............:       20\n",
      "        inequality constraints with only lower bounds:       10\n",
      "   inequality constraints with lower and upper bounds:        0\n",
      "        inequality constraints with only upper bounds:       10\n",
      "\n",
      "iter    objective    inf_pr   inf_du lg(mu)  ||d||  lg(rg) alpha_du alpha_pr  ls\n",
      "   0  0.0000000e+00 9.18e-01 9.05e-01  -1.0 0.00e+00    -  0.00e+00 0.00e+00   0\n",
      "   1  4.4824629e-03 9.09e-01 1.30e+00  -1.7 4.92e-01    -  2.83e-02 2.01e-02h  1\n",
      "   2  1.4027771e-02 8.90e-01 1.36e+00  -1.7 8.30e-01    -  2.12e-02 2.09e-02h  1\n",
      "   3  4.6534866e-01 0.00e+00 7.83e+00  -1.7 8.19e-01    -  1.34e-01 1.00e+00f  1\n",
      "   4  4.7187635e-01 0.00e+00 8.01e-02  -1.7 1.05e-02    -  9.90e-01 1.00e+00f  1\n",
      "   5  4.3187415e-01 0.00e+00 7.10e-02  -2.5 1.04e-01    -  1.00e+00 8.43e-01f  1\n",
      "   6  4.3573275e-01 0.00e+00 2.83e-08  -2.5 1.30e-02    -  1.00e+00 1.00e+00f  1\n",
      "   7  4.2603223e-01 0.00e+00 1.53e-02  -3.8 1.59e-02    -  1.00e+00 8.30e-01f  1\n",
      "   8  4.2602973e-01 0.00e+00 1.50e-09  -3.8 3.21e-04    -  1.00e+00 1.00e+00f  1\n",
      "   9  4.2572160e-01 0.00e+00 5.45e-05  -5.7 3.20e-04    -  1.00e+00 9.94e-01f  1\n",
      "iter    objective    inf_pr   inf_du lg(mu)  ||d||  lg(rg) alpha_du alpha_pr  ls\n",
      "  10  4.2572365e-01 0.00e+00 1.84e-11  -5.7 3.69e-06    -  1.00e+00 1.00e+00f  1\n",
      "  11  4.2571997e-01 0.00e+00 2.51e-14  -8.6 3.69e-06    -  1.00e+00 1.00e+00f  1\n",
      "\n",
      "Number of Iterations....: 11\n",
      "\n",
      "                                   (scaled)                 (unscaled)\n",
      "Objective...............:   4.2571996812889762e-01    4.2571996812889762e-01\n",
      "Dual infeasibility......:   2.5091040356528538e-14    2.5091040356528538e-14\n",
      "Constraint violation....:   0.0000000000000000e+00    0.0000000000000000e+00\n",
      "Complementarity.........:   2.6911858085374965e-09    2.6911858085374965e-09\n",
      "Overall NLP error.......:   2.6911858085374965e-09    2.6911858085374965e-09\n",
      "\n",
      "\n",
      "Number of objective function evaluations             = 12\n",
      "Number of objective gradient evaluations             = 12\n",
      "Number of equality constraint evaluations            = 0\n",
      "Number of inequality constraint evaluations          = 12\n",
      "Number of equality constraint Jacobian evaluations   = 0\n",
      "Number of inequality constraint Jacobian evaluations = 12\n",
      "Number of Lagrangian Hessian evaluations             = 11\n",
      "Total CPU secs in IPOPT (w/o function evaluations)   =      0.012\n",
      "Total CPU secs in NLP function evaluations           =      0.000\n",
      "\n",
      "EXIT: Optimal Solution Found.\n",
      "                   proc           wall      num           mean             mean\n",
      "                   time           time     evals       proc time        wall time\n",
      "        nlp_f     0.000 [s]      0.000 [s]    12       0.00 [ms]        0.00 [ms]\n",
      "        nlp_g     0.000 [s]      0.000 [s]    12       0.01 [ms]        0.00 [ms]\n",
      "   nlp_grad_f     0.000 [s]      0.000 [s]    13       0.01 [ms]        0.00 [ms]\n",
      "    nlp_jac_g     0.000 [s]      0.000 [s]    13       0.00 [ms]        0.00 [ms]\n",
      "   nlp_hess_l     0.000 [s]      0.000 [s]    11       0.00 [ms]        0.00 [ms]\n",
      " all previous     0.000 [s]      0.000 [s]\n",
      "callback_prep     0.000 [s]      0.000 [s]    12       0.01 [ms]        0.00 [ms]\n",
      "       solver     0.020 [s]      0.008 [s]\n",
      "     mainloop     0.020 [s]      0.008 [s]\n"
     ]
    }
   ],
   "source": [
    "nlp = { 'x':ca.vertcat(est, bound ),'f':obj,'g':ca.vertcat(*con) }\n",
    "solver = ca.nlpsol(\"solver\",\"ipopt\", nlp)\n",
    "r = solver(lbg = con_lower, ubg = con_upper)"
   ]
  },
  {
   "cell_type": "code",
   "execution_count": 145,
   "metadata": {
    "collapsed": false
   },
   "outputs": [
    {
     "name": "stdout",
     "output_type": "stream",
     "text": [
      "center value is  0.492235069624\n",
      "distance to the bound is  0.425719968129\n"
     ]
    }
   ],
   "source": [
    "est_,bound_ = r['x'].full()\n",
    "est_ = est_[0]\n",
    "bound_ = bound_[0]\n",
    "print \"center value is \", str(est_)\n",
    "print \"distance to the bound is \", str(bound_)"
   ]
  },
  {
   "cell_type": "markdown",
   "metadata": {},
   "source": [
    "Plotting the result"
   ]
  },
  {
   "cell_type": "code",
   "execution_count": 146,
   "metadata": {
    "collapsed": false
   },
   "outputs": [
    {
     "data": {
      "text/plain": [
       "[<matplotlib.lines.Line2D at 0x7f0b3678b690>]"
      ]
     },
     "execution_count": 146,
     "metadata": {},
     "output_type": "execute_result"
    },
    {
     "data": {
      "image/png": "[encoded data removed]",
      "text/plain": [
       "<matplotlib.figure.Figure at 0x7f0b3731d610>"
      ]
     },
     "metadata": {},
     "output_type": "display_data"
    }
   ],
   "source": [
    "upper_bound = 2 * [est_ + bound_]\n",
    "lower_bound = 2 * [est_ - bound_]\n",
    "middel = 2 * [est_]\n",
    "interval = [0, 1]\n",
    "\n",
    "plt.figure()\n",
    "plt.plot(x,y,'ko')\n",
    "plt.plot(interval,upper_bound,'b')\n",
    "plt.plot(interval,lower_bound,'b')\n",
    "plt.plot(interval,middel,'r')"
   ]
  },
  {
   "cell_type": "markdown",
   "metadata": {},
   "source": [
    "Now we will try something simular but our estimation will be linear depending on $x$. To do this we will construct a Monomial and optimise over its coefficients."
   ]
  },
  {
   "cell_type": "code",
   "execution_count": 147,
   "metadata": {
    "collapsed": false
   },
   "outputs": [],
   "source": [
    "degree = 1\n",
    "m = SubMonomialBasis(degree)\n"
   ]
  },
  {
   "cell_type": "code",
   "execution_count": 148,
   "metadata": {
    "collapsed": false
   },
   "outputs": [
    {
     "data": {
      "text/plain": [
       "MX(vertcat(1, x))"
      ]
     },
     "execution_count": 148,
     "metadata": {},
     "output_type": "execute_result"
    }
   ],
   "source": [
    "m([ca.MX.sym('x',1,1)]).data()"
   ]
  },
  {
   "cell_type": "code",
   "execution_count": 149,
   "metadata": {
    "collapsed": false
   },
   "outputs": [],
   "source": [
    "b = Basis([m])\n",
    "b = MonomialBasis(degree)"
   ]
  },
  {
   "cell_type": "code",
   "execution_count": 150,
   "metadata": {
    "collapsed": false
   },
   "outputs": [
    {
     "name": "stdout",
     "output_type": "stream",
     "text": [
      "[1, 0.1]\n",
      "@1=zeros(2x1, dense)[0] = 1), @1[1] = (@1[1]+x))\n"
     ]
    }
   ],
   "source": [
    "print b([0.1]).data()\n",
    "print b([ca.MX.sym('x',1,1)]).data()"
   ]
  },
  {
   "cell_type": "code",
   "execution_count": 152,
   "metadata": {
    "collapsed": false
   },
   "outputs": [],
   "source": [
    "a_ = ca.SX.sym('a',degree + 1,1)\n",
    "a = STensor(a_, [degree + 1,1,1])\n",
    "#a = STensor('a',[degree + 1,1,1])\n",
    "#a = Coefficient(a)\n",
    "#a"
   ]
  },
  {
   "cell_type": "code",
   "execution_count": 2,
   "metadata": {
    "collapsed": false
   },
   "outputs": [
    {
     "ename": "NameError",
     "evalue": "name 'Function' is not defined",
     "output_type": "error",
     "traceback": [
      "\u001b[1;31m---------------------------------------------------------------------------\u001b[0m",
      "\u001b[1;31mNameError\u001b[0m                                 Traceback (most recent call last)",
      "\u001b[1;32m<ipython-input-2-3dd27f3c93a9>\u001b[0m in \u001b[0;36m<module>\u001b[1;34m()\u001b[0m\n\u001b[1;32m----> 1\u001b[1;33m \u001b[0mest_function\u001b[0m \u001b[1;33m=\u001b[0m \u001b[0mFunction\u001b[0m\u001b[1;33m(\u001b[0m\u001b[0mb\u001b[0m\u001b[1;33m,\u001b[0m\u001b[0ma\u001b[0m\u001b[1;33m)\u001b[0m\u001b[1;33m\u001b[0m\u001b[0m\n\u001b[0m\u001b[0;32m      2\u001b[0m \u001b[1;33m\u001b[0m\u001b[0m\n\u001b[0;32m      3\u001b[0m \u001b[1;33m\u001b[0m\u001b[0m\n\u001b[0;32m      4\u001b[0m \u001b[1;31m#Function( Basis& basis, const Coefficient& coef) : basis(basis), coef(coef) {}\u001b[0m\u001b[1;33m\u001b[0m\u001b[1;33m\u001b[0m\u001b[0m\n\u001b[0;32m      5\u001b[0m \u001b[1;33m\u001b[0m\u001b[0m\n",
      "\u001b[1;31mNameError\u001b[0m: name 'Function' is not defined"
     ]
    }
   ],
   "source": [
    "est_function = Function(b,a)\n",
    "\n",
    "\n",
    "#Function( Basis& basis, const Coefficient& coef) : basis(basis), coef(coef) {} \n",
    "\n",
    "#    \n",
    "#Basis b;\n",
    "#ST s;#\n",
    "\n",
    "##explicit Coefficient(const ST& a);\n",
    "\n",
    "#\n",
    "#Function(b, s);\n",
    "#c = b.ST(1,1)\n",
    "#Function(b, c)\n",
    "#Function(b, Coefficient(b.ST(1,1)))\n",
    "\n",
    "\n",
    "\n",
    "    "
   ]
  },
  {
   "cell_type": "code",
   "execution_count": 3,
   "metadata": {
    "collapsed": false
   },
   "outputs": [
    {
     "ename": "NameError",
     "evalue": "name 'est_function' is not defined",
     "output_type": "error",
     "traceback": [
      "\u001b[1;31m---------------------------------------------------------------------------\u001b[0m",
      "\u001b[1;31mNameError\u001b[0m                                 Traceback (most recent call last)",
      "\u001b[1;32m<ipython-input-3-eef1d17ad0e1>\u001b[0m in \u001b[0;36m<module>\u001b[1;34m()\u001b[0m\n\u001b[1;32m----> 1\u001b[1;33m \u001b[0mest_function\u001b[0m\u001b[1;33m(\u001b[0m\u001b[1;33m[\u001b[0m\u001b[1;36m0.1\u001b[0m\u001b[1;33m]\u001b[0m\u001b[1;33m)\u001b[0m\u001b[1;33m.\u001b[0m\u001b[0mdata\u001b[0m\u001b[1;33m(\u001b[0m\u001b[1;33m)\u001b[0m\u001b[1;33m\u001b[0m\u001b[0m\n\u001b[0m",
      "\u001b[1;31mNameError\u001b[0m: name 'est_function' is not defined"
     ]
    }
   ],
   "source": [
    "est_function([0.1]).data()"
   ]
  },
  {
   "cell_type": "code",
   "execution_count": 4,
   "metadata": {
    "collapsed": false
   },
   "outputs": [
    {
     "ename": "NameError",
     "evalue": "name 'x' is not defined",
     "output_type": "error",
     "traceback": [
      "\u001b[1;31m---------------------------------------------------------------------------\u001b[0m",
      "\u001b[1;31mNameError\u001b[0m                                 Traceback (most recent call last)",
      "\u001b[1;32m<ipython-input-4-9dc03449c44e>\u001b[0m in \u001b[0;36m<module>\u001b[1;34m()\u001b[0m\n\u001b[0;32m      3\u001b[0m \u001b[0mcon_upper\u001b[0m \u001b[1;33m=\u001b[0m \u001b[1;33m[\u001b[0m\u001b[1;33m]\u001b[0m\u001b[1;33m\u001b[0m\u001b[0m\n\u001b[0;32m      4\u001b[0m \u001b[1;33m\u001b[0m\u001b[0m\n\u001b[1;32m----> 5\u001b[1;33m \u001b[1;32mfor\u001b[0m \u001b[0mx_\u001b[0m\u001b[1;33m,\u001b[0m\u001b[0my_\u001b[0m \u001b[1;32min\u001b[0m \u001b[0mzip\u001b[0m\u001b[1;33m(\u001b[0m\u001b[0mx\u001b[0m\u001b[1;33m,\u001b[0m\u001b[0my\u001b[0m\u001b[1;33m)\u001b[0m\u001b[1;33m:\u001b[0m\u001b[1;33m\u001b[0m\u001b[0m\n\u001b[0m\u001b[0;32m      6\u001b[0m      \u001b[0mcon\u001b[0m\u001b[1;33m.\u001b[0m\u001b[0mappend\u001b[0m\u001b[1;33m(\u001b[0m\u001b[0mest_function\u001b[0m\u001b[1;33m(\u001b[0m\u001b[1;33m[\u001b[0m\u001b[0mx_\u001b[0m\u001b[1;33m]\u001b[0m\u001b[1;33m)\u001b[0m\u001b[1;33m.\u001b[0m\u001b[0mdata\u001b[0m\u001b[1;33m(\u001b[0m\u001b[1;33m)\u001b[0m \u001b[1;33m-\u001b[0m \u001b[0mbound\u001b[0m\u001b[1;33m)\u001b[0m\u001b[1;33m\u001b[0m\u001b[0m\n\u001b[0;32m      7\u001b[0m      \u001b[0mcon_lower\u001b[0m\u001b[1;33m.\u001b[0m\u001b[0mappend\u001b[0m\u001b[1;33m(\u001b[0m\u001b[1;33m-\u001b[0m\u001b[0mca\u001b[0m\u001b[1;33m.\u001b[0m\u001b[0minf\u001b[0m\u001b[1;33m)\u001b[0m\u001b[1;33m\u001b[0m\u001b[0m\n",
      "\u001b[1;31mNameError\u001b[0m: name 'x' is not defined"
     ]
    }
   ],
   "source": [
    "con = []\n",
    "con_lower = []\n",
    "con_upper = []\n",
    "\n",
    "for x_,y_ in zip(x,y):\n",
    "     con.append(est_function([x_]).data() - bound)\n",
    "     con_lower.append(-ca.inf)\n",
    "     con_upper.append(y_)\n",
    "    \n",
    "     con.append(est_function([x_]).data() + bound)\n",
    "     con_lower.append(y_)\n",
    "     con_upper.append(ca.inf)"
   ]
  },
  {
   "cell_type": "code",
   "execution_count": null,
   "metadata": {
    "collapsed": false
   },
   "outputs": [],
   "source": [
    "nlp = { 'x':ca.vertcat(a., bound ),'f':obj,'g':ca.vertcat(*con) }\n",
    "solver = ca.nlpsol(\"solver\",\"ipopt\", nlp)\n",
    "r = solver(lbg = con_lower, ubg = con_upper)"
   ]
  },
  {
   "cell_type": "code",
   "execution_count": null,
   "metadata": {
    "collapsed": false
   },
   "outputs": [],
   "source": [
    "print r['x'].full()[0:degree+1]"
   ]
  },
  {
   "cell_type": "code",
   "execution_count": null,
   "metadata": {
    "collapsed": false
   },
   "outputs": [],
   "source": [
    "est_ = r['x'].full()[0:degree+1]\n",
    "bound_ = r['x'].full()[degree+1]\n",
    "bound_ = bound_[0]\n",
    "print \"center value is \", str(est_)\n",
    "print \"distance to the bound is \", str(bound_)"
   ]
  },
  {
   "cell_type": "code",
   "execution_count": null,
   "metadata": {
    "collapsed": true
   },
   "outputs": [],
   "source": [
    "a = est_\n",
    "a = DTensor(a, [degree + 1,1,1])\n",
    "a = Coefficient(a)"
   ]
  },
  {
   "cell_type": "code",
   "execution_count": null,
   "metadata": {
    "collapsed": true
   },
   "outputs": [],
   "source": [
    "est_function = Function(b,a)"
   ]
  },
  {
   "cell_type": "code",
   "execution_count": null,
   "metadata": {
    "collapsed": false
   },
   "outputs": [],
   "source": [
    "interval = np.linspace(0.,1.,101)\n",
    "upper_bound = []\n",
    "lower_bound = []\n",
    "middel = []\n",
    "\n",
    "for i in interval:\n",
    "    upper_bound.append(est_function([i]).data() + bound_)\n",
    "    lower_bound.append(est_function([i]).data() - bound_)\n",
    "    middel.append(est_function([i]).data())\n",
    "\n",
    "plt.figure()\n",
    "plt.plot(x,y,'ko')\n",
    "plt.plot(interval,upper_bound,'b')\n",
    "plt.plot(interval,lower_bound,'b')\n",
    "plt.plot(interval,middel,'r')"
   ]
  },
  {
   "cell_type": "code",
   "execution_count": null,
   "metadata": {
    "collapsed": true
   },
   "outputs": [],
   "source": []
  }
 ],
 "metadata": {
  "kernelspec": {
   "display_name": "Python 2",
   "language": "python",
   "name": "python2"
  }
 },
 "nbformat": 4,
 "nbformat_minor": 0
}
